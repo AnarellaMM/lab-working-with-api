{
 "cells": [
  {
   "cell_type": "markdown",
   "id": "bc372ab2-693a-4bf1-81b8-30583e74c946",
   "metadata": {},
   "source": [
    "**Lab | Working with APIs**\n",
    "\n",
    "Instructions\n",
    "Following the class example, create a function that returns the price, names of origin and arrival airports and the name of the company. Do it for all the flights between two dates that cost the same."
   ]
  },
  {
   "cell_type": "code",
   "execution_count": 3,
   "id": "ed7557ec-90be-4051-898b-9787a6ae1373",
   "metadata": {},
   "outputs": [
    {
     "name": "stdout",
     "output_type": "stream",
     "text": [
      "Airport Name: Port of Spain Piarco\n",
      "Airport Code: Piarco\n",
      "---\n"
     ]
    }
   ],
   "source": [
    "import requests\n",
    "\n",
    "def get_airports_in_spain():\n",
    "    base_url = \"https://aerodatabox.p.rapidapi.com/airports/search/term\"\n",
    "\n",
    "    headers = {\n",
    "        'x-rapidapi-host': \"aerodatabox.p.rapidapi.com\",\n",
    "        'x-rapidapi-key': \"9613ca6ca5msh62659872159916fp1a0a2cjsndd9a3e6ff324\",\n",
    "    }\n",
    "\n",
    "    # Define the parameters for the API request\n",
    "    params = {\n",
    "        \"q\": \"Spain\",  # Specify \"Spain\" to search for airports in Spain\n",
    "        \"limit\": \"10\",\n",
    "    }\n",
    "\n",
    "    try:\n",
    "        response = requests.get(base_url, headers=headers, params=params)\n",
    "        response.raise_for_status()  # Check for HTTP errors\n",
    "\n",
    "        # Assuming the API returns airport data in JSON format\n",
    "        airport_data = response.json()\n",
    "\n",
    "        # Process and filter the airport data as needed\n",
    "        relevant_airports = []\n",
    "\n",
    "        for airport in airport_data.get(\"items\", []):\n",
    "            airport_name = airport.get(\"name\", \"\")\n",
    "            airport_code = airport.get(\"shortName\", \"\")\n",
    "            # You can add more fields as needed\n",
    "\n",
    "            # Check if the airport is relevant based on your criteria\n",
    "            # For example, you can include all airports in Spain\n",
    "            relevant_airports.append({\n",
    "                \"name\": airport_name,\n",
    "                \"code\": airport_code,\n",
    "            })\n",
    "\n",
    "        return relevant_airports\n",
    "\n",
    "    except requests.exceptions.RequestException as e:\n",
    "        print(\"Error making API request:\", e)\n",
    "        return []\n",
    "\n",
    "# Example usage:\n",
    "airports = get_airports_in_spain()\n",
    "\n",
    "if airports:\n",
    "    for airport in airports:\n",
    "        print(\"Airport Name:\", airport[\"name\"])\n",
    "        print(\"Airport Code:\", airport[\"code\"])\n",
    "        print(\"---\")\n",
    "else:\n",
    "    print(\"No airports in Spain found.\")"
   ]
  },
  {
   "cell_type": "code",
   "execution_count": null,
   "id": "8afc9256-b390-4c44-baf3-feb86b564dd0",
   "metadata": {},
   "outputs": [],
   "source": []
  }
 ],
 "metadata": {
  "kernelspec": {
   "display_name": "Python 3 (ipykernel)",
   "language": "python",
   "name": "python3"
  },
  "language_info": {
   "codemirror_mode": {
    "name": "ipython",
    "version": 3
   },
   "file_extension": ".py",
   "mimetype": "text/x-python",
   "name": "python",
   "nbconvert_exporter": "python",
   "pygments_lexer": "ipython3",
   "version": "3.10.9"
  }
 },
 "nbformat": 4,
 "nbformat_minor": 5
}
